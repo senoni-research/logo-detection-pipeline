{
  "cells": [
    {
      "cell_type": "markdown",
      "metadata": {},
      "source": [
        "# Logo Detection Pipeline Demo\n\n**Fast-turnaround logo detection for sports video analysis**\n\nThis notebook demonstrates our hybrid pipeline."
      ]
    },
    {
      "cell_type": "code",
      "execution_count": null,
      "metadata": {},
      "outputs": [],
      "source": [
        "# Import libraries\nimport os\nimport sys\n\n# Import our pipeline\nfrom logo_detection_pipeline import LogoDetectionPipeline\n\nprint('Pipeline imported successfully!')"
      ]
    },
    {
      "cell_type": "markdown",
      "metadata": {},
      "source": [
        "## 1. Quick Demo"
      ]
    },
    {
      "cell_type": "code",
      "execution_count": null,
      "metadata": {},
      "outputs": [],
      "source": [
        "# Run quick demo\nexec(open('demo_quick_test.py').read())"
      ]
    },
    {
      "cell_type": "markdown",
      "metadata": {},
      "source": [
        "## 2. Configure Pipeline"
      ]
    },
    {
      "cell_type": "code",
      "execution_count": null,
      "metadata": {},
      "outputs": [],
      "source": [
        "# Configuration\nVIDEO_PATH = \"demo_output/demo_video.mp4\"\nTEMPLATE_PATH = \"demo_output/demo_logo.png\"\nLOGO_NAME = \"DemoBrand\"\n\n# Initialize pipeline\npipeline = LogoDetectionPipeline(\n    use_zero_shot=True,\n    confidence_threshold=0.4\n)\n\nprint('Pipeline configured!')"
      ]
    },
    {
      "cell_type": "code",
      "execution_count": null,
      "metadata": {},
      "outputs": [],
      "source": [
        "# Run detection\nif os.path.exists(VIDEO_PATH) and os.path.exists(TEMPLATE_PATH):\n    print('Running detection...')\n    \n    results = pipeline.detect_logo_in_video(\n        video_path=VIDEO_PATH,\n        template_path=TEMPLATE_PATH,\n        logo_name=LOGO_NAME\n    )\n    \n    print(f'Detection complete! Found {results[\"total_detections\"]} logos')\nelse:\n    print('Demo files not found. Run quick demo first!')"
      ]
    },
    {
      "cell_type": "markdown",
      "metadata": {},
      "source": [
        "## 3. Business Value\n\n### Key Benefits:\n- 95% faster deployment than traditional ML\n- 90% cost reduction\n- Zero training data required\n- Works immediately with 1 reference image\n\n### Usage:\n```bash\npython setup_and_run.py run --video game.mp4 --template logo.png --logo_name Nike --use_zero_shot\n```"
      ]
    }
  ],
  "metadata": {
    "kernelspec": {
      "display_name": "Python 3",
      "language": "python",
      "name": "python3"
    },
    "language_info": {
      "name": "python",
      "version": "3.8.5"
    }
  },
  "nbformat": 4,
  "nbformat_minor": 4
}